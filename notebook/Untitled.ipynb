{
 "cells": [
  {
   "cell_type": "code",
   "execution_count": 1,
   "id": "f9a96777-d0f4-49ef-a8b3-e9583f136489",
   "metadata": {
    "execution": {
     "iopub.execute_input": "2023-11-24T18:46:14.673083Z",
     "iopub.status.busy": "2023-11-24T18:46:14.672248Z",
     "iopub.status.idle": "2023-11-24T18:46:19.481262Z",
     "shell.execute_reply": "2023-11-24T18:46:19.480321Z",
     "shell.execute_reply.started": "2023-11-24T18:46:14.673042Z"
    },
    "tags": []
   },
   "outputs": [
    {
     "name": "stdout",
     "output_type": "stream",
     "text": [
      "\n",
      "\u001b[1m[\u001b[0m\u001b[34;49mnotice\u001b[0m\u001b[1;39;49m]\u001b[0m\u001b[39;49m A new release of pip is available: \u001b[0m\u001b[31;49m23.2.1\u001b[0m\u001b[39;49m -> \u001b[0m\u001b[32;49m23.3.1\u001b[0m\n",
      "\u001b[1m[\u001b[0m\u001b[34;49mnotice\u001b[0m\u001b[1;39;49m]\u001b[0m\u001b[39;49m To update, run: \u001b[0m\u001b[32;49mpython3 -m pip install --upgrade pip\u001b[0m\n"
     ]
    }
   ],
   "source": [
    "%pip install -q ultralytics\n",
    "%pip install -q opencv-python-headless"
   ]
  },
  {
   "cell_type": "code",
   "execution_count": null,
   "id": "63f9810d-8ced-4e4e-be47-8f27ffc52746",
   "metadata": {
    "execution": {
     "iopub.execute_input": "2023-11-24T18:50:14.128151Z",
     "iopub.status.busy": "2023-11-24T18:50:14.127107Z"
    },
    "tags": []
   },
   "outputs": [
    {
     "name": "stderr",
     "output_type": "stream",
     "text": [
      "Extracting :  86%|████████▌ | 859/999 [06:39<04:11,  1.79s/it]"
     ]
    }
   ],
   "source": [
    "import zipfile\n",
    "from tqdm import tqdm\n",
    "\n",
    "fname = '/home/jupyter/datasphere/project/train_dataset_train.zip'\n",
    "path = './'\n",
    "\n",
    "with zipfile.ZipFile(fname, 'r') as zf:\n",
    "    for entry in tqdm(zf.infolist(), desc='Extracting '):\n",
    "        try:\n",
    "            zf.extract(entry, path)\n",
    "        except zipfile.error as e:\n",
    "            pass\n"
   ]
  },
  {
   "cell_type": "code",
   "execution_count": 1,
   "id": "3756b240-974e-41b5-9a26-7c7108aef1f0",
   "metadata": {
    "execution": {
     "iopub.execute_input": "2023-11-24T18:49:28.265072Z",
     "iopub.status.busy": "2023-11-24T18:49:28.263985Z",
     "iopub.status.idle": "2023-11-24T18:49:30.193222Z",
     "shell.execute_reply": "2023-11-24T18:49:30.192270Z",
     "shell.execute_reply.started": "2023-11-24T18:49:28.265020Z"
    },
    "tags": []
   },
   "outputs": [],
   "source": [
    "import os\n",
    "from ultralytics import YOLO\n",
    "import cv2\n",
    "from tqdm import tqdm"
   ]
  },
  {
   "cell_type": "code",
   "execution_count": 4,
   "id": "5f26018b-2978-4fb2-83e1-14df3b615094",
   "metadata": {
    "execution": {
     "iopub.execute_input": "2023-11-24T15:57:03.612705Z",
     "iopub.status.busy": "2023-11-24T15:57:03.611775Z",
     "iopub.status.idle": "2023-11-24T15:57:05.148895Z",
     "shell.execute_reply": "2023-11-24T15:57:05.148093Z",
     "shell.execute_reply.started": "2023-11-24T15:57:03.612648Z"
    }
   },
   "outputs": [
    {
     "name": "stdout",
     "output_type": "stream",
     "text": [
      "Downloading https://github.com/ultralytics/assets/releases/download/v0.0.0/yolov8n-cls.pt to 'yolov8n-cls.pt'...\n"
     ]
    },
    {
     "name": "stderr",
     "output_type": "stream",
     "text": [
      "100%|██████████| 5.28M/5.28M [00:00<00:00, 19.6MB/s]\n"
     ]
    }
   ],
   "source": [
    "model = YOLO('yolov8n-cls.pt')"
   ]
  },
  {
   "cell_type": "code",
   "execution_count": null,
   "id": "2a414727-c239-40a3-8273-9c32d1e87d7e",
   "metadata": {
    "tags": []
   },
   "outputs": [],
   "source": [
    "results = model.train(data='detect_shots.yaml', epochs=20, imgsz=640)"
   ]
  },
  {
   "cell_type": "code",
   "execution_count": 5,
   "id": "df09a440-20cf-41da-b0df-4bf440ed6a90",
   "metadata": {
    "execution": {
     "iopub.execute_input": "2023-11-24T16:47:36.939243Z",
     "iopub.status.busy": "2023-11-24T16:47:36.938479Z",
     "iopub.status.idle": "2023-11-24T16:47:36.992924Z",
     "shell.execute_reply": "2023-11-24T16:47:36.992025Z",
     "shell.execute_reply.started": "2023-11-24T16:47:36.939194Z"
    },
    "tags": []
   },
   "outputs": [],
   "source": [
    "model = YOLO('artefacts/shots_detector_run2.pt')"
   ]
  },
  {
   "cell_type": "code",
   "execution_count": null,
   "id": "cb84336a-6b38-4185-838a-02ef3319e4e6",
   "metadata": {},
   "outputs": [],
   "source": [
    "# Функция для конвертации времени в формате чч:мм:сс в количество секунд\n",
    "def convert_time_to_seconds(time_str):\n",
    "    h, m, s = map(int, time_str.split(':'))\n",
    "    return h * 3600 + m * 60 + s\n",
    "\n",
    "\n",
    "train_dir = \"/home/jupyter/datasphere/project/train\"\n",
    "\n",
    "folders = os.listdir(train_dir)\n",
    "folders.sort()\n",
    "\n",
    "for folder in folders:\n",
    "    video_files = os.listdir(os.path.join(train_dir, folder))\n",
    "    for video_file in tqdm(video_files):\n",
    "        try:\n",
    "            # Загрузите видео\n",
    "            video_path = os.path.join(train_dir, folder, video_file)\n",
    "            cap = cv2.VideoCapture(video_path)\n",
    "\n",
    "            # Убедитесь, что видео было успешно загружено\n",
    "            if not cap.isOpened():\n",
    "                raise Exception(\"Error opening video file\")\n",
    "\n",
    "            # Получите частоту кадров видео\n",
    "            fps = cap.get(cv2.CAP_PROP_FPS)\n",
    "\n",
    "            # Вычислите номера кадров для начального и конечного времени\n",
    "            start_time = convert_time_to_seconds('00:01:40')\n",
    "            end_time = convert_time_to_seconds('00:02:30')\n",
    "            start_frame = int(start_time * fps)\n",
    "            end_frame = int(end_time * fps)\n",
    "\n",
    "            # Установите начальную позицию видео\n",
    "            cap.set(cv2.CAP_PROP_POS_FRAMES, start_frame)\n",
    "\n",
    "            i = 0\n",
    "            step = 50\n",
    "            # Читайте видео с начальной до конечной позиции\n",
    "            while cap.get(cv2.CAP_PROP_POS_FRAMES) < end_frame:\n",
    "                ret, frame = cap.read()\n",
    "                # Проверьте, успешно ли прочитан кадр\n",
    "                if not ret:\n",
    "                    break\n",
    "\n",
    "                if i % step == 0:\n",
    "                    # Сохраните кадр\n",
    "                    frame_number = int(cap.get(cv2.CAP_PROP_POS_FRAMES))\n",
    "                    frame_name = os.path.join(frames_dir, f'{os.path.split(video_file)[1]}_frame_{frame_number}.jpg')\n",
    "                    if os.path.exists(frame_name):\n",
    "                        break\n",
    "                    cv2.imwrite(frame_name, frame)\n",
    "                    \n",
    "                \n",
    "                i += 1\n",
    "\n",
    "            # Освободите захват видео и закройте все окна\n",
    "            cap.release()\n",
    "        except Exception:\n",
    "            pass\n",
    "cv2.destroyAllWindows()"
   ]
  }
 ],
 "metadata": {
  "kernelspec": {
   "display_name": "DataSphere Kernel",
   "language": "python",
   "name": "python3"
  },
  "language_info": {
   "codemirror_mode": {
    "name": "ipython",
    "version": 3
   },
   "file_extension": ".py",
   "mimetype": "text/x-python",
   "name": "python",
   "nbconvert_exporter": "python",
   "pygments_lexer": "ipython3",
   "version": "3.7.7"
  }
 },
 "nbformat": 4,
 "nbformat_minor": 5
}
